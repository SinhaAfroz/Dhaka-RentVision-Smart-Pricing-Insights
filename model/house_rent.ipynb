{
 "cells": [
  {
   "cell_type": "code",
   "execution_count": 1,
   "id": "2292d9f3-81a2-48f9-8924-315968c5cbc5",
   "metadata": {},
   "outputs": [],
   "source": [
    "import pandas as pd\n",
    "import numpy as np\n",
    "from matplotlib import pyplot as plt\n",
    "%matplotlib inline\n",
    "import matplotlib \n",
    "matplotlib.rcParams[\"figure.figsize\"] = (20,10)"
   ]
  },
  {
   "cell_type": "markdown",
   "id": "803f322e-846f-43fd-8e49-ff3894c9832d",
   "metadata": {},
   "source": [
    "# data reading"
   ]
  },
  {
   "cell_type": "code",
   "execution_count": 32,
   "id": "78b2f3ee-6b39-4585-844f-1d8e885d3a22",
   "metadata": {},
   "outputs": [
    {
     "data": {
      "text/html": [
       "<div>\n",
       "<style scoped>\n",
       "    .dataframe tbody tr th:only-of-type {\n",
       "        vertical-align: middle;\n",
       "    }\n",
       "\n",
       "    .dataframe tbody tr th {\n",
       "        vertical-align: top;\n",
       "    }\n",
       "\n",
       "    .dataframe thead th {\n",
       "        text-align: right;\n",
       "    }\n",
       "</style>\n",
       "<table border=\"1\" class=\"dataframe\">\n",
       "  <thead>\n",
       "    <tr style=\"text-align: right;\">\n",
       "      <th></th>\n",
       "      <th>Unnamed: 0</th>\n",
       "      <th>Location</th>\n",
       "      <th>Area</th>\n",
       "      <th>Bed</th>\n",
       "      <th>Bath</th>\n",
       "      <th>Price</th>\n",
       "    </tr>\n",
       "  </thead>\n",
       "  <tbody>\n",
       "    <tr>\n",
       "      <th>0</th>\n",
       "      <td>0</td>\n",
       "      <td>Block H, Bashundhara R-A, Dhaka</td>\n",
       "      <td>1,600 sqft</td>\n",
       "      <td>3</td>\n",
       "      <td>3</td>\n",
       "      <td>20 Thousand</td>\n",
       "    </tr>\n",
       "    <tr>\n",
       "      <th>1</th>\n",
       "      <td>1</td>\n",
       "      <td>Farmgate, Tejgaon, Dhaka</td>\n",
       "      <td>900 sqft</td>\n",
       "      <td>2</td>\n",
       "      <td>2</td>\n",
       "      <td>20 Thousand</td>\n",
       "    </tr>\n",
       "    <tr>\n",
       "      <th>2</th>\n",
       "      <td>2</td>\n",
       "      <td>Block B, Nobodoy Housing Society, Mohammadpur,...</td>\n",
       "      <td>1,250 sqft</td>\n",
       "      <td>3</td>\n",
       "      <td>3</td>\n",
       "      <td>18 Thousand</td>\n",
       "    </tr>\n",
       "    <tr>\n",
       "      <th>3</th>\n",
       "      <td>3</td>\n",
       "      <td>Gulshan 1, Gulshan, Dhaka</td>\n",
       "      <td>2,200 sqft</td>\n",
       "      <td>3</td>\n",
       "      <td>4</td>\n",
       "      <td>75 Thousand</td>\n",
       "    </tr>\n",
       "    <tr>\n",
       "      <th>4</th>\n",
       "      <td>4</td>\n",
       "      <td>Baridhara, Dhaka</td>\n",
       "      <td>2,200 sqft</td>\n",
       "      <td>3</td>\n",
       "      <td>3</td>\n",
       "      <td>75 Thousand</td>\n",
       "    </tr>\n",
       "  </tbody>\n",
       "</table>\n",
       "</div>"
      ],
      "text/plain": [
       "   Unnamed: 0                                           Location        Area  \\\n",
       "0           0                    Block H, Bashundhara R-A, Dhaka  1,600 sqft   \n",
       "1           1                           Farmgate, Tejgaon, Dhaka    900 sqft   \n",
       "2           2  Block B, Nobodoy Housing Society, Mohammadpur,...  1,250 sqft   \n",
       "3           3                          Gulshan 1, Gulshan, Dhaka  2,200 sqft   \n",
       "4           4                                   Baridhara, Dhaka  2,200 sqft   \n",
       "\n",
       "   Bed  Bath        Price  \n",
       "0    3     3  20 Thousand  \n",
       "1    2     2  20 Thousand  \n",
       "2    3     3  18 Thousand  \n",
       "3    3     4  75 Thousand  \n",
       "4    3     3  75 Thousand  "
      ]
     },
     "execution_count": 32,
     "metadata": {},
     "output_type": "execute_result"
    }
   ],
   "source": [
    "# Load the data from the CSV file\n",
    "file_path = 'g:/House Rent Prediction/model/houserentdhaka.csv'\n",
    "data = pd.read_csv(file_path)\n",
    "\n",
    "# Display the first few rows of the data\n",
    "data.head()"
   ]
  },
  {
   "cell_type": "code",
   "execution_count": 34,
   "id": "7ff8b498-8642-49cd-ad78-542d702c4b1a",
   "metadata": {},
   "outputs": [
    {
     "name": "stdout",
     "output_type": "stream",
     "text": [
      "Index(['Unnamed: 0', 'Location', 'Area', 'Bed', 'Bath', 'Price'], dtype='object')\n"
     ]
    }
   ],
   "source": [
    "print(data.columns)"
   ]
  },
  {
   "cell_type": "markdown",
   "id": "3ceb9d51-ae13-4646-80e0-6013dcb2e14a",
   "metadata": {},
   "source": [
    "# Data Cleaning"
   ]
  },
  {
   "cell_type": "code",
   "execution_count": 37,
   "id": "65555c73-ecd5-4bbb-9c01-782f2b3f6ff5",
   "metadata": {},
   "outputs": [
    {
     "name": "stdout",
     "output_type": "stream",
     "text": [
      "                                                Location            Place\n",
      "0                        Block H, Bashundhara R-A, Dhaka  Bashundhara R-A\n",
      "1                               Farmgate, Tejgaon, Dhaka          Tejgaon\n",
      "2      Block B, Nobodoy Housing Society, Mohammadpur,...      Mohammadpur\n",
      "3                              Gulshan 1, Gulshan, Dhaka          Gulshan\n",
      "4                                       Baridhara, Dhaka        Baridhara\n",
      "...                                                  ...              ...\n",
      "28795                           Section 2, Mirpur, Dhaka           Mirpur\n",
      "28796                    Block F, Bashundhara R-A, Dhaka  Bashundhara R-A\n",
      "28797         RK Mission Road, Gopibag, Motijheel, Dhaka        Motijheel\n",
      "28798                Ullan, West Rampura, Rampura, Dhaka          Rampura\n",
      "28799                               Vatara, Badda, Dhaka            Badda\n",
      "\n",
      "[28800 rows x 2 columns]\n"
     ]
    }
   ],
   "source": [
    "def extract_specific_location(text):\n",
    "    # Split the text by commas\n",
    "    places = text.split(',')\n",
    "    # Strip leading/trailing spaces from each part\n",
    "    places = [place.strip() for place in places]\n",
    "    # Return the second-to-last place as the most specific location\n",
    "    if len(places) > 1:\n",
    "        return places[-2]  # Second-to-last place is considered the most specific\n",
    "    return places[-1]  # If only one part, return it\n",
    "\n",
    "\n",
    "data['Place'] = data['Location'].apply(extract_specific_location)\n",
    "\n",
    "print(data[['Location', 'Place']])"
   ]
  },
  {
   "cell_type": "code",
   "execution_count": 39,
   "id": "ea1879af-6ea3-48ef-b277-ca06ffc9a46d",
   "metadata": {},
   "outputs": [
    {
     "data": {
      "text/plain": [
       "(28800, 7)"
      ]
     },
     "execution_count": 39,
     "metadata": {},
     "output_type": "execute_result"
    }
   ],
   "source": [
    "data.shape"
   ]
  },
  {
   "cell_type": "code",
   "execution_count": 41,
   "id": "5fe33e0f-32d4-432b-a741-a799655e3cff",
   "metadata": {},
   "outputs": [
    {
     "data": {
      "text/html": [
       "<div>\n",
       "<style scoped>\n",
       "    .dataframe tbody tr th:only-of-type {\n",
       "        vertical-align: middle;\n",
       "    }\n",
       "\n",
       "    .dataframe tbody tr th {\n",
       "        vertical-align: top;\n",
       "    }\n",
       "\n",
       "    .dataframe thead th {\n",
       "        text-align: right;\n",
       "    }\n",
       "</style>\n",
       "<table border=\"1\" class=\"dataframe\">\n",
       "  <thead>\n",
       "    <tr style=\"text-align: right;\">\n",
       "      <th></th>\n",
       "      <th>Unnamed: 0</th>\n",
       "      <th>Location</th>\n",
       "      <th>Area</th>\n",
       "      <th>Bed</th>\n",
       "      <th>Bath</th>\n",
       "      <th>Price</th>\n",
       "      <th>Place</th>\n",
       "    </tr>\n",
       "  </thead>\n",
       "  <tbody>\n",
       "    <tr>\n",
       "      <th>0</th>\n",
       "      <td>0</td>\n",
       "      <td>Block H, Bashundhara R-A, Dhaka</td>\n",
       "      <td>1600.0</td>\n",
       "      <td>3</td>\n",
       "      <td>3</td>\n",
       "      <td>20000.0</td>\n",
       "      <td>Bashundhara R-A</td>\n",
       "    </tr>\n",
       "    <tr>\n",
       "      <th>1</th>\n",
       "      <td>1</td>\n",
       "      <td>Farmgate, Tejgaon, Dhaka</td>\n",
       "      <td>900.0</td>\n",
       "      <td>2</td>\n",
       "      <td>2</td>\n",
       "      <td>20000.0</td>\n",
       "      <td>Tejgaon</td>\n",
       "    </tr>\n",
       "    <tr>\n",
       "      <th>2</th>\n",
       "      <td>2</td>\n",
       "      <td>Block B, Nobodoy Housing Society, Mohammadpur,...</td>\n",
       "      <td>1250.0</td>\n",
       "      <td>3</td>\n",
       "      <td>3</td>\n",
       "      <td>18000.0</td>\n",
       "      <td>Mohammadpur</td>\n",
       "    </tr>\n",
       "    <tr>\n",
       "      <th>3</th>\n",
       "      <td>3</td>\n",
       "      <td>Gulshan 1, Gulshan, Dhaka</td>\n",
       "      <td>2200.0</td>\n",
       "      <td>3</td>\n",
       "      <td>4</td>\n",
       "      <td>75000.0</td>\n",
       "      <td>Gulshan</td>\n",
       "    </tr>\n",
       "    <tr>\n",
       "      <th>4</th>\n",
       "      <td>4</td>\n",
       "      <td>Baridhara, Dhaka</td>\n",
       "      <td>2200.0</td>\n",
       "      <td>3</td>\n",
       "      <td>3</td>\n",
       "      <td>75000.0</td>\n",
       "      <td>Baridhara</td>\n",
       "    </tr>\n",
       "  </tbody>\n",
       "</table>\n",
       "</div>"
      ],
      "text/plain": [
       "   Unnamed: 0                                           Location    Area  Bed  \\\n",
       "0           0                    Block H, Bashundhara R-A, Dhaka  1600.0    3   \n",
       "1           1                           Farmgate, Tejgaon, Dhaka   900.0    2   \n",
       "2           2  Block B, Nobodoy Housing Society, Mohammadpur,...  1250.0    3   \n",
       "3           3                          Gulshan 1, Gulshan, Dhaka  2200.0    3   \n",
       "4           4                                   Baridhara, Dhaka  2200.0    3   \n",
       "\n",
       "   Bath    Price            Place  \n",
       "0     3  20000.0  Bashundhara R-A  \n",
       "1     2  20000.0          Tejgaon  \n",
       "2     3  18000.0      Mohammadpur  \n",
       "3     4  75000.0          Gulshan  \n",
       "4     3  75000.0        Baridhara  "
      ]
     },
     "execution_count": 41,
     "metadata": {},
     "output_type": "execute_result"
    }
   ],
   "source": [
    "# Convert 'area' to numerical format\n",
    "data['Area'] = data['Area'].str.replace(',', '').str.replace(' sqft', '').astype(float)\n",
    "\n",
    "# Function to convert price to numerical format\n",
    "def convert_price(price):\n",
    "    if 'Thousand' in price:\n",
    "        return float(price.replace(' Thousand', '')) * 1000\n",
    "    elif 'Lakh' in price:\n",
    "        return float(price.replace(' Lakh', '')) * 100000\n",
    "    else:\n",
    "        return float(price)\n",
    "\n",
    "# Apply conversion to 'price' column\n",
    "data['Price'] = data['Price'].apply(convert_price)\n",
    "\n",
    "# Function to clean bed and bath values\n",
    "def clean_bed_bath(value):\n",
    "    # Convert to string, split on space, and take the first part\n",
    "    value = str(value).split()[0]\n",
    "    try:\n",
    "        return int(value)  # Convert to integer\n",
    "    except ValueError:\n",
    "        return None  # Return None if conversion fails\n",
    "\n",
    "# Clean the 'beds' column\n",
    "data['Bed'] = data['Bed'].apply(clean_bed_bath)\n",
    "\n",
    "# Clean the 'bath' column\n",
    "data['Bath'] = data['Bath'].apply(clean_bed_bath)\n",
    "\n",
    "# Display cleaned data\n",
    "data.head()"
   ]
  },
  {
   "cell_type": "code",
   "execution_count": 43,
   "id": "45d7b8e5-fa74-4995-9238-cbeb2c2ca80e",
   "metadata": {},
   "outputs": [
    {
     "data": {
      "text/plain": [
       "array(['Bashundhara R-A', 'Tejgaon', 'Mohammadpur', 'Gulshan',\n",
       "       'Baridhara', 'Hazaribag', 'Mirpur', 'Nikunja', 'Uttara',\n",
       "       'Khilgaon', 'Ibrahimpur', 'Badda', 'Adabor', 'Jatra Bari',\n",
       "       'Malibagh', 'Banani', 'Kakrail', 'Dhanmondi', 'Maghbazar',\n",
       "       'Kalachandpur', 'Niketan', 'Eskaton', 'Banasree', 'Bashabo',\n",
       "       'Baridhara DOHS', 'Aftab Nagar', 'Lalmatia', 'Dakshin Khan',\n",
       "       'Mohakhali DOHS', 'Sutrapur', 'Hatirpool', 'Agargaon', 'Rampura',\n",
       "       'Cantonment', 'Shahbagh', 'Khilkhet', 'Motijheel', 'Shantinagar',\n",
       "       'Shegunbagicha', 'Kathalbagan', 'Shyamoli', 'Kalabagan', 'Demra',\n",
       "       'Kuril', 'Mohakhali', 'Lalbagh', 'New Market', 'Kafrul',\n",
       "       'Kachukhet', 'Turag', 'Dhaka', 'Nadda', 'Shyampur', 'Maniknagar',\n",
       "       'Banani DOHS', 'Shiddheswari', 'Bangshal', 'Paribagh',\n",
       "       'Joar Sahara', 'Mugdapara', 'North Shahjahanpur', 'Kotwali',\n",
       "       'Shahjahanpur', 'Uttar Khan', 'Taltola', 'Sadarghat',\n",
       "       'Banglamotors', 'Zafrabad', 'Keraniganj'], dtype=object)"
      ]
     },
     "execution_count": 43,
     "metadata": {},
     "output_type": "execute_result"
    }
   ],
   "source": [
    "data.Place.unique()"
   ]
  },
  {
   "cell_type": "code",
   "execution_count": 45,
   "id": "ef4cb4a2-5aac-4265-9f79-a519535c8538",
   "metadata": {},
   "outputs": [
    {
     "name": "stdout",
     "output_type": "stream",
     "text": [
      "Series([], dtype: int64)\n"
     ]
    }
   ],
   "source": [
    "# Check for null values\n",
    "null_values = data.isnull().sum()\n",
    "\n",
    "# Display columns with null values\n",
    "print(null_values[null_values > 0])"
   ]
  },
  {
   "cell_type": "code",
   "execution_count": 47,
   "id": "eafdc4af-e440-4557-a66e-b3ccb2a2fcc5",
   "metadata": {},
   "outputs": [
    {
     "name": "stdout",
     "output_type": "stream",
     "text": [
      "0\n"
     ]
    }
   ],
   "source": [
    "empty_location_count = data['Place'].isna().sum()\n",
    "print(empty_location_count)"
   ]
  },
  {
   "cell_type": "markdown",
   "id": "39f2d4cf-a691-45d3-bafc-c1f26e55d748",
   "metadata": {},
   "source": [
    "# Feature engineering"
   ]
  },
  {
   "cell_type": "code",
   "execution_count": 50,
   "id": "ccc0d762-99f5-40d3-bf4d-a46082cfd0e3",
   "metadata": {},
   "outputs": [
    {
     "data": {
      "text/html": [
       "<div>\n",
       "<style scoped>\n",
       "    .dataframe tbody tr th:only-of-type {\n",
       "        vertical-align: middle;\n",
       "    }\n",
       "\n",
       "    .dataframe tbody tr th {\n",
       "        vertical-align: top;\n",
       "    }\n",
       "\n",
       "    .dataframe thead th {\n",
       "        text-align: right;\n",
       "    }\n",
       "</style>\n",
       "<table border=\"1\" class=\"dataframe\">\n",
       "  <thead>\n",
       "    <tr style=\"text-align: right;\">\n",
       "      <th></th>\n",
       "      <th>Unnamed: 0</th>\n",
       "      <th>Location</th>\n",
       "      <th>Area</th>\n",
       "      <th>Bed</th>\n",
       "      <th>Bath</th>\n",
       "      <th>Price</th>\n",
       "      <th>Place</th>\n",
       "      <th>price_per_sqft</th>\n",
       "    </tr>\n",
       "  </thead>\n",
       "  <tbody>\n",
       "    <tr>\n",
       "      <th>0</th>\n",
       "      <td>0</td>\n",
       "      <td>Block H, Bashundhara R-A, Dhaka</td>\n",
       "      <td>1600.0</td>\n",
       "      <td>3</td>\n",
       "      <td>3</td>\n",
       "      <td>20000.0</td>\n",
       "      <td>Bashundhara R-A</td>\n",
       "      <td>12.500000</td>\n",
       "    </tr>\n",
       "    <tr>\n",
       "      <th>1</th>\n",
       "      <td>1</td>\n",
       "      <td>Farmgate, Tejgaon, Dhaka</td>\n",
       "      <td>900.0</td>\n",
       "      <td>2</td>\n",
       "      <td>2</td>\n",
       "      <td>20000.0</td>\n",
       "      <td>Tejgaon</td>\n",
       "      <td>22.222222</td>\n",
       "    </tr>\n",
       "    <tr>\n",
       "      <th>2</th>\n",
       "      <td>2</td>\n",
       "      <td>Block B, Nobodoy Housing Society, Mohammadpur,...</td>\n",
       "      <td>1250.0</td>\n",
       "      <td>3</td>\n",
       "      <td>3</td>\n",
       "      <td>18000.0</td>\n",
       "      <td>Mohammadpur</td>\n",
       "      <td>14.400000</td>\n",
       "    </tr>\n",
       "    <tr>\n",
       "      <th>3</th>\n",
       "      <td>3</td>\n",
       "      <td>Gulshan 1, Gulshan, Dhaka</td>\n",
       "      <td>2200.0</td>\n",
       "      <td>3</td>\n",
       "      <td>4</td>\n",
       "      <td>75000.0</td>\n",
       "      <td>Gulshan</td>\n",
       "      <td>34.090909</td>\n",
       "    </tr>\n",
       "    <tr>\n",
       "      <th>4</th>\n",
       "      <td>4</td>\n",
       "      <td>Baridhara, Dhaka</td>\n",
       "      <td>2200.0</td>\n",
       "      <td>3</td>\n",
       "      <td>3</td>\n",
       "      <td>75000.0</td>\n",
       "      <td>Baridhara</td>\n",
       "      <td>34.090909</td>\n",
       "    </tr>\n",
       "  </tbody>\n",
       "</table>\n",
       "</div>"
      ],
      "text/plain": [
       "   Unnamed: 0                                           Location    Area  Bed  \\\n",
       "0           0                    Block H, Bashundhara R-A, Dhaka  1600.0    3   \n",
       "1           1                           Farmgate, Tejgaon, Dhaka   900.0    2   \n",
       "2           2  Block B, Nobodoy Housing Society, Mohammadpur,...  1250.0    3   \n",
       "3           3                          Gulshan 1, Gulshan, Dhaka  2200.0    3   \n",
       "4           4                                   Baridhara, Dhaka  2200.0    3   \n",
       "\n",
       "   Bath    Price            Place  price_per_sqft  \n",
       "0     3  20000.0  Bashundhara R-A       12.500000  \n",
       "1     2  20000.0          Tejgaon       22.222222  \n",
       "2     3  18000.0      Mohammadpur       14.400000  \n",
       "3     4  75000.0          Gulshan       34.090909  \n",
       "4     3  75000.0        Baridhara       34.090909  "
      ]
     },
     "execution_count": 50,
     "metadata": {},
     "output_type": "execute_result"
    }
   ],
   "source": [
    "# Example of feature engineering: price per square foot\n",
    "data['price_per_sqft'] = data['Price'] / data['Area']\n",
    "\n",
    "data.head()"
   ]
  },
  {
   "cell_type": "markdown",
   "id": "acfe16ad-cb7c-43ba-968a-ca37e4b02f4f",
   "metadata": {},
   "source": [
    "# Outlier remove"
   ]
  },
  {
   "cell_type": "code",
   "execution_count": 53,
   "id": "741d67b1-2a64-413e-ba89-37e1c29c5be6",
   "metadata": {},
   "outputs": [
    {
     "data": {
      "text/plain": [
       "Place\n",
       "Mirpur             8451\n",
       "Mohammadpur        3612\n",
       "Uttara             2070\n",
       "Badda              1831\n",
       "Bashundhara R-A    1397\n",
       "                   ... \n",
       "Demra                 7\n",
       "Zafrabad              7\n",
       "Keraniganj            3\n",
       "Sadarghat             2\n",
       "Banglamotors          2\n",
       "Name: Place, Length: 69, dtype: int64"
      ]
     },
     "execution_count": 53,
     "metadata": {},
     "output_type": "execute_result"
    }
   ],
   "source": [
    "# Get the count of unique values in the 'location' column\n",
    "location_stats = data.groupby('Place')['Place'].agg('count').sort_values(ascending = False)\n",
    "\n",
    "location_stats"
   ]
  },
  {
   "cell_type": "code",
   "execution_count": 55,
   "id": "684a83d6-6856-4d9b-83b2-f3297a4c4ddd",
   "metadata": {},
   "outputs": [
    {
     "data": {
      "text/plain": [
       "69"
      ]
     },
     "execution_count": 55,
     "metadata": {},
     "output_type": "execute_result"
    }
   ],
   "source": [
    "len(location_stats)"
   ]
  },
  {
   "cell_type": "code",
   "execution_count": 57,
   "id": "cda3fe43-d88f-49c2-a035-b60dfdc55168",
   "metadata": {},
   "outputs": [
    {
     "data": {
      "text/plain": [
       "15"
      ]
     },
     "execution_count": 57,
     "metadata": {},
     "output_type": "execute_result"
    }
   ],
   "source": [
    "len(location_stats[location_stats<=20])"
   ]
  },
  {
   "cell_type": "code",
   "execution_count": 59,
   "id": "39c63725-8b28-4ba2-bd1a-bbe53e04d1f5",
   "metadata": {},
   "outputs": [
    {
     "data": {
      "text/plain": [
       "Place\n",
       "Mugdapara         19\n",
       "Uttar Khan        17\n",
       "Kachukhet         15\n",
       "Dhaka             13\n",
       "Kotwali           11\n",
       "Mohakhali DOHS    11\n",
       "Paribagh          10\n",
       "Taltola           10\n",
       "Maniknagar        10\n",
       "Shahbagh           7\n",
       "Demra              7\n",
       "Zafrabad           7\n",
       "Keraniganj         3\n",
       "Sadarghat          2\n",
       "Banglamotors       2\n",
       "Name: Place, dtype: int64"
      ]
     },
     "execution_count": 59,
     "metadata": {},
     "output_type": "execute_result"
    }
   ],
   "source": [
    "location_stats_less_than_20 = location_stats[location_stats<=20]\n",
    "location_stats_less_than_20"
   ]
  },
  {
   "cell_type": "code",
   "execution_count": 61,
   "id": "063671cd-9d55-457d-a720-ef1174bb3143",
   "metadata": {},
   "outputs": [
    {
     "data": {
      "text/plain": [
       "55"
      ]
     },
     "execution_count": 61,
     "metadata": {},
     "output_type": "execute_result"
    }
   ],
   "source": [
    "data.Place = data.Place.apply(lambda x: 'other' if x in location_stats_less_than_20 else x)\n",
    "len(data.Place.unique())"
   ]
  },
  {
   "cell_type": "code",
   "execution_count": 63,
   "id": "07a9efb7-cc78-4b7e-843e-60d842bcc827",
   "metadata": {},
   "outputs": [
    {
     "data": {
      "text/html": [
       "<div>\n",
       "<style scoped>\n",
       "    .dataframe tbody tr th:only-of-type {\n",
       "        vertical-align: middle;\n",
       "    }\n",
       "\n",
       "    .dataframe tbody tr th {\n",
       "        vertical-align: top;\n",
       "    }\n",
       "\n",
       "    .dataframe thead th {\n",
       "        text-align: right;\n",
       "    }\n",
       "</style>\n",
       "<table border=\"1\" class=\"dataframe\">\n",
       "  <thead>\n",
       "    <tr style=\"text-align: right;\">\n",
       "      <th></th>\n",
       "      <th>Location</th>\n",
       "      <th>Area</th>\n",
       "      <th>Bed</th>\n",
       "      <th>Bath</th>\n",
       "      <th>Price</th>\n",
       "      <th>Place</th>\n",
       "      <th>price_per_sqft</th>\n",
       "    </tr>\n",
       "  </thead>\n",
       "  <tbody>\n",
       "    <tr>\n",
       "      <th>0</th>\n",
       "      <td>Block H, Bashundhara R-A, Dhaka</td>\n",
       "      <td>1600.0</td>\n",
       "      <td>3</td>\n",
       "      <td>3</td>\n",
       "      <td>20000.0</td>\n",
       "      <td>Bashundhara R-A</td>\n",
       "      <td>12.500000</td>\n",
       "    </tr>\n",
       "    <tr>\n",
       "      <th>1</th>\n",
       "      <td>Farmgate, Tejgaon, Dhaka</td>\n",
       "      <td>900.0</td>\n",
       "      <td>2</td>\n",
       "      <td>2</td>\n",
       "      <td>20000.0</td>\n",
       "      <td>Tejgaon</td>\n",
       "      <td>22.222222</td>\n",
       "    </tr>\n",
       "    <tr>\n",
       "      <th>2</th>\n",
       "      <td>Block B, Nobodoy Housing Society, Mohammadpur,...</td>\n",
       "      <td>1250.0</td>\n",
       "      <td>3</td>\n",
       "      <td>3</td>\n",
       "      <td>18000.0</td>\n",
       "      <td>Mohammadpur</td>\n",
       "      <td>14.400000</td>\n",
       "    </tr>\n",
       "    <tr>\n",
       "      <th>3</th>\n",
       "      <td>Gulshan 1, Gulshan, Dhaka</td>\n",
       "      <td>2200.0</td>\n",
       "      <td>3</td>\n",
       "      <td>4</td>\n",
       "      <td>75000.0</td>\n",
       "      <td>Gulshan</td>\n",
       "      <td>34.090909</td>\n",
       "    </tr>\n",
       "    <tr>\n",
       "      <th>4</th>\n",
       "      <td>Baridhara, Dhaka</td>\n",
       "      <td>2200.0</td>\n",
       "      <td>3</td>\n",
       "      <td>3</td>\n",
       "      <td>75000.0</td>\n",
       "      <td>Baridhara</td>\n",
       "      <td>34.090909</td>\n",
       "    </tr>\n",
       "  </tbody>\n",
       "</table>\n",
       "</div>"
      ],
      "text/plain": [
       "                                            Location    Area  Bed  Bath  \\\n",
       "0                    Block H, Bashundhara R-A, Dhaka  1600.0    3     3   \n",
       "1                           Farmgate, Tejgaon, Dhaka   900.0    2     2   \n",
       "2  Block B, Nobodoy Housing Society, Mohammadpur,...  1250.0    3     3   \n",
       "3                          Gulshan 1, Gulshan, Dhaka  2200.0    3     4   \n",
       "4                                   Baridhara, Dhaka  2200.0    3     3   \n",
       "\n",
       "     Price            Place  price_per_sqft  \n",
       "0  20000.0  Bashundhara R-A       12.500000  \n",
       "1  20000.0          Tejgaon       22.222222  \n",
       "2  18000.0      Mohammadpur       14.400000  \n",
       "3  75000.0          Gulshan       34.090909  \n",
       "4  75000.0        Baridhara       34.090909  "
      ]
     },
     "execution_count": 63,
     "metadata": {},
     "output_type": "execute_result"
    }
   ],
   "source": [
    "# Drop unnecessary columns\n",
    "data = data.drop(columns=['Unnamed: 0'])\n",
    "data.head()"
   ]
  },
  {
   "cell_type": "code",
   "execution_count": 65,
   "id": "93c6de64-ec29-4326-b026-e705fbf9c7a3",
   "metadata": {},
   "outputs": [
    {
     "data": {
      "text/html": [
       "<div>\n",
       "<style scoped>\n",
       "    .dataframe tbody tr th:only-of-type {\n",
       "        vertical-align: middle;\n",
       "    }\n",
       "\n",
       "    .dataframe tbody tr th {\n",
       "        vertical-align: top;\n",
       "    }\n",
       "\n",
       "    .dataframe thead th {\n",
       "        text-align: right;\n",
       "    }\n",
       "</style>\n",
       "<table border=\"1\" class=\"dataframe\">\n",
       "  <thead>\n",
       "    <tr style=\"text-align: right;\">\n",
       "      <th></th>\n",
       "      <th>Location</th>\n",
       "      <th>Area</th>\n",
       "      <th>Bed</th>\n",
       "      <th>Bath</th>\n",
       "      <th>Price</th>\n",
       "      <th>Place</th>\n",
       "      <th>price_per_sqft</th>\n",
       "    </tr>\n",
       "  </thead>\n",
       "  <tbody>\n",
       "    <tr>\n",
       "      <th>39</th>\n",
       "      <td>Kajla, Jatra Bari, Dhaka</td>\n",
       "      <td>800.0</td>\n",
       "      <td>3</td>\n",
       "      <td>2</td>\n",
       "      <td>15000.0</td>\n",
       "      <td>Jatra Bari</td>\n",
       "      <td>18.750000</td>\n",
       "    </tr>\n",
       "    <tr>\n",
       "      <th>86</th>\n",
       "      <td>Block C, Section 13, Mirpur, Dhaka</td>\n",
       "      <td>745.0</td>\n",
       "      <td>3</td>\n",
       "      <td>2</td>\n",
       "      <td>15000.0</td>\n",
       "      <td>Mirpur</td>\n",
       "      <td>20.134228</td>\n",
       "    </tr>\n",
       "    <tr>\n",
       "      <th>135</th>\n",
       "      <td>Kajla, Jatra Bari, Dhaka</td>\n",
       "      <td>800.0</td>\n",
       "      <td>3</td>\n",
       "      <td>2</td>\n",
       "      <td>15000.0</td>\n",
       "      <td>Jatra Bari</td>\n",
       "      <td>18.750000</td>\n",
       "    </tr>\n",
       "    <tr>\n",
       "      <th>186</th>\n",
       "      <td>Nayatola, Maghbazar, Dhaka</td>\n",
       "      <td>550.0</td>\n",
       "      <td>2</td>\n",
       "      <td>2</td>\n",
       "      <td>13000.0</td>\n",
       "      <td>Maghbazar</td>\n",
       "      <td>23.636364</td>\n",
       "    </tr>\n",
       "    <tr>\n",
       "      <th>191</th>\n",
       "      <td>Baitul Aman Housing Society, Adabor, Dhaka</td>\n",
       "      <td>550.0</td>\n",
       "      <td>2</td>\n",
       "      <td>1</td>\n",
       "      <td>8500.0</td>\n",
       "      <td>Adabor</td>\n",
       "      <td>15.454545</td>\n",
       "    </tr>\n",
       "  </tbody>\n",
       "</table>\n",
       "</div>"
      ],
      "text/plain": [
       "                                       Location   Area  Bed  Bath    Price  \\\n",
       "39                     Kajla, Jatra Bari, Dhaka  800.0    3     2  15000.0   \n",
       "86           Block C, Section 13, Mirpur, Dhaka  745.0    3     2  15000.0   \n",
       "135                    Kajla, Jatra Bari, Dhaka  800.0    3     2  15000.0   \n",
       "186                  Nayatola, Maghbazar, Dhaka  550.0    2     2  13000.0   \n",
       "191  Baitul Aman Housing Society, Adabor, Dhaka  550.0    2     1   8500.0   \n",
       "\n",
       "          Place  price_per_sqft  \n",
       "39   Jatra Bari       18.750000  \n",
       "86       Mirpur       20.134228  \n",
       "135  Jatra Bari       18.750000  \n",
       "186   Maghbazar       23.636364  \n",
       "191      Adabor       15.454545  "
      ]
     },
     "execution_count": 65,
     "metadata": {},
     "output_type": "execute_result"
    }
   ],
   "source": [
    "data[data.Area/data.Bed<300].head()"
   ]
  },
  {
   "cell_type": "code",
   "execution_count": 67,
   "id": "54d264d6-a66d-4600-85d0-5caaaed58866",
   "metadata": {},
   "outputs": [
    {
     "name": "stdout",
     "output_type": "stream",
     "text": [
      "(27876, 7)\n"
     ]
    }
   ],
   "source": [
    "condition = (data.Area/data.Bed) < 300\n",
    "\n",
    "# Negate the mask to get rows where the condition is not met\n",
    "data2 = data[~condition]\n",
    "\n",
    "# Check the shape of the resulting DataFrame\n",
    "print(data2.shape)"
   ]
  },
  {
   "cell_type": "code",
   "execution_count": 69,
   "id": "c934c2b6-b53b-4e55-9490-b255e6919c5e",
   "metadata": {},
   "outputs": [
    {
     "data": {
      "text/plain": [
       "count    27876.000000\n",
       "mean        18.946916\n",
       "std          6.575892\n",
       "min          6.500000\n",
       "25%         15.384615\n",
       "50%         18.000000\n",
       "75%         20.952381\n",
       "max        228.571429\n",
       "Name: price_per_sqft, dtype: float64"
      ]
     },
     "execution_count": 69,
     "metadata": {},
     "output_type": "execute_result"
    }
   ],
   "source": [
    "data2.price_per_sqft.describe()"
   ]
  },
  {
   "cell_type": "code",
   "execution_count": 71,
   "id": "82da2c6a-e805-4935-a465-399dd205f064",
   "metadata": {},
   "outputs": [
    {
     "data": {
      "text/plain": [
       "(19919, 7)"
      ]
     },
     "execution_count": 71,
     "metadata": {},
     "output_type": "execute_result"
    }
   ],
   "source": [
    "def remove_pps_outliers(df):\n",
    "    df_out = pd.DataFrame()\n",
    "    for key, subdf in df.groupby('Place'):\n",
    "        m = np.mean(subdf.price_per_sqft)\n",
    "        st = np.std(subdf.price_per_sqft)\n",
    "        reduced_df = subdf[(subdf.price_per_sqft>(m-st)) & (subdf.price_per_sqft<=(m+st))]\n",
    "        df_out = pd.concat([df_out,reduced_df],ignore_index=True)\n",
    "    return df_out\n",
    "data3 = remove_pps_outliers(data2)\n",
    "data3.shape"
   ]
  },
  {
   "cell_type": "code",
   "execution_count": 73,
   "id": "352c87a0-da40-4959-b4b9-4455fd35bff3",
   "metadata": {},
   "outputs": [
    {
     "data": {
      "image/png": "[encoded data removed]",
      "text/plain": [
       "<Figure size 1500x1000 with 1 Axes>"
      ]
     },
     "metadata": {},
     "output_type": "display_data"
    }
   ],
   "source": [
    "def plot_scatter_chart(df,location):\n",
    "    beds2 = df[(df.Place==location) & (df.Bed==2)]\n",
    "    beds3 = df[(df.Place==location) & (df.Bed==3)]\n",
    "    matplotlib.rcParams['figure.figsize'] = (15,10)\n",
    "    plt.scatter(beds2.Area,beds2.Price,color='blue',label='2 Beds', s=50)\n",
    "    plt.scatter(beds3.Area,beds3.Price,marker='+', color='green',label='3 Beds', s=50)\n",
    "    plt.xlabel(\"Total Square Feet Area\")\n",
    "    plt.ylabel(\"Price (Taka)\")\n",
    "    plt.title(location)\n",
    "    plt.legend()\n",
    "    \n",
    "plot_scatter_chart(data3,\"Uttara\")"
   ]
  },
  {
   "cell_type": "code",
   "execution_count": 74,
   "id": "4482cb76-2164-4cd5-880d-5695ec2fb06a",
   "metadata": {},
   "outputs": [
    {
     "data": {
      "text/plain": [
       "(9407, 7)"
      ]
     },
     "execution_count": 74,
     "metadata": {},
     "output_type": "execute_result"
    }
   ],
   "source": [
    "def remove_bhk_outliers(df):\n",
    "    exclude_indices = []\n",
    "    \n",
    "    # Group by 'Place'\n",
    "    for location, location_df in df.groupby('Place'):\n",
    "        # Calculate statistics for each number of bedrooms\n",
    "        bhk_stats = {}\n",
    "        for bhk, bhk_df in location_df.groupby('Bed'):\n",
    "            bhk_stats[bhk] = {\n",
    "                'mean': bhk_df.price_per_sqft.mean(),\n",
    "                'std': bhk_df.price_per_sqft.std(),\n",
    "                'count': bhk_df.shape[0]\n",
    "            }\n",
    "        \n",
    "        # Identify outliers based on comparison with properties having one less bedroom\n",
    "        for bhk, bhk_df in location_df.groupby('Bed'):\n",
    "            prev_bhk_stats = bhk_stats.get(bhk - 1)\n",
    "            if prev_bhk_stats and prev_bhk_stats['count'] > 3:\n",
    "                # Find indices where price per sqft is less than the mean of the previous BHK\n",
    "                outlier_indices = bhk_df[bhk_df.price_per_sqft < prev_bhk_stats['mean']].index\n",
    "                exclude_indices.extend(outlier_indices)\n",
    "    \n",
    "    # Drop the identified outliers from the DataFrame\n",
    "    return df.drop(exclude_indices, axis='index')\n",
    "\n",
    "# Apply the function to remove outliers\n",
    "data4 = remove_bhk_outliers(data3)\n",
    "data4.shape\n"
   ]
  },
  {
   "cell_type": "code",
   "execution_count": 77,
   "id": "12f3813d-5d57-4f8b-84f7-21283d617dcd",
   "metadata": {},
   "outputs": [
    {
     "data": {
      "image/png": "[encoded data removed]",
      "text/plain": [
       "<Figure size 1500x1000 with 1 Axes>"
      ]
     },
     "metadata": {},
     "output_type": "display_data"
    }
   ],
   "source": [
    "plot_scatter_chart(data4,\"Uttara\")"
   ]
  },
  {
   "cell_type": "code",
   "execution_count": 79,
   "id": "eb1951d9-a549-4d99-b90c-d74f81c426bf",
   "metadata": {},
   "outputs": [
    {
     "data": {
      "text/plain": [
       "array([3, 2, 1, 4, 5, 6], dtype=int64)"
      ]
     },
     "execution_count": 79,
     "metadata": {},
     "output_type": "execute_result"
    }
   ],
   "source": [
    "data4.Bath.unique()"
   ]
  },
  {
   "cell_type": "code",
   "execution_count": 81,
   "id": "5a34fc4d-c265-4c31-afb5-c719e098e7ac",
   "metadata": {},
   "outputs": [
    {
     "data": {
      "text/plain": [
       "Text(0, 0.5, 'Count')"
      ]
     },
     "execution_count": 81,
     "metadata": {},
     "output_type": "execute_result"
    },
    {
     "data": {
      "image/png": "[encoded data removed]",
      "text/plain": [
       "<Figure size 1500x1000 with 1 Axes>"
      ]
     },
     "metadata": {},
     "output_type": "display_data"
    }
   ],
   "source": [
    "plt.hist(data4.Bath,rwidth=0.8)\n",
    "plt.xlabel(\"Number of bathrooms\")\n",
    "plt.ylabel(\"Count\")"
   ]
  },
  {
   "cell_type": "code",
   "execution_count": 82,
   "id": "bc646c41-3286-476c-a2de-ccd981168e13",
   "metadata": {},
   "outputs": [
    {
     "data": {
      "text/plain": [
       "array([3, 2, 4, 1, 5, 6], dtype=int64)"
      ]
     },
     "execution_count": 82,
     "metadata": {},
     "output_type": "execute_result"
    }
   ],
   "source": [
    "data4.Bed.unique()"
   ]
  },
  {
   "cell_type": "code",
   "execution_count": 85,
   "id": "92ce1e8d-c84d-4ee7-a1eb-609943800200",
   "metadata": {},
   "outputs": [
    {
     "data": {
      "text/plain": [
       "Text(0, 0.5, 'Count')"
      ]
     },
     "execution_count": 85,
     "metadata": {},
     "output_type": "execute_result"
    },
    {
     "data": {
      "image/png": "[encoded data removed]",
      "text/plain": [
       "<Figure size 1500x1000 with 1 Axes>"
      ]
     },
     "metadata": {},
     "output_type": "display_data"
    }
   ],
   "source": [
    "plt.hist(data4.Bed,rwidth=0.8)\n",
    "plt.xlabel(\"Number of beds\")\n",
    "plt.ylabel(\"Count\")"
   ]
  },
  {
   "cell_type": "code",
   "execution_count": 86,
   "id": "da8fdcf1-2ab4-4537-aee8-d8dd27a7572f",
   "metadata": {},
   "outputs": [
    {
     "name": "stdout",
     "output_type": "stream",
     "text": [
      "4674\n"
     ]
    }
   ],
   "source": [
    "print(data4.duplicated().sum())"
   ]
  },
  {
   "cell_type": "code",
   "execution_count": 89,
   "id": "9ff394fa-6436-4aaa-925f-f11208028208",
   "metadata": {},
   "outputs": [
    {
     "name": "stdout",
     "output_type": "stream",
     "text": [
      "                                                Location    Area  Bed  Bath  \\\n",
      "17            Baitul Aman Housing Society, Adabor, Dhaka  1550.0    3     3   \n",
      "19            Baitul Aman Housing Society, Adabor, Dhaka  1550.0    3     3   \n",
      "28         Shyamoli Housing (2nd Project), Adabor, Dhaka   850.0    2     2   \n",
      "33     Block D, Mansurabad Housing Society, Adabor, D...   800.0    2     2   \n",
      "34     Block D, Mansurabad Housing Society, Adabor, D...   800.0    2     2   \n",
      "...                                                  ...     ...  ...   ...   \n",
      "19909                        Tati Bazaar, Kotwali, Dhaka   600.0    2     2   \n",
      "19912                                    Zafrabad, Dhaka   800.0    2     2   \n",
      "19913                                    Zafrabad, Dhaka   800.0    2     2   \n",
      "19915                                    Zafrabad, Dhaka   800.0    2     2   \n",
      "19918                                  Keraniganj, Dhaka   740.0    2     2   \n",
      "\n",
      "         Price   Place  price_per_sqft  \n",
      "17     30000.0  Adabor       19.354839  \n",
      "19     30000.0  Adabor       19.354839  \n",
      "28     15000.0  Adabor       17.647059  \n",
      "33     15000.0  Adabor       18.750000  \n",
      "34     15000.0  Adabor       18.750000  \n",
      "...        ...     ...             ...  \n",
      "19909  12000.0   other       20.000000  \n",
      "19912  15000.0   other       18.750000  \n",
      "19913  15000.0   other       18.750000  \n",
      "19915  15000.0   other       18.750000  \n",
      "19918  16000.0   other       21.621622  \n",
      "\n",
      "[4674 rows x 7 columns]\n"
     ]
    }
   ],
   "source": [
    "duplicates = data4[data4.duplicated()]\n",
    "print(duplicates)"
   ]
  },
  {
   "cell_type": "code",
   "execution_count": 91,
   "id": "ccb64693-fac7-4419-9c6f-1362b19c6869",
   "metadata": {},
   "outputs": [],
   "source": [
    "data5 = data4.drop_duplicates()"
   ]
  },
  {
   "cell_type": "code",
   "execution_count": 93,
   "id": "77766dd7-e755-4927-8c02-0c73e2344100",
   "metadata": {},
   "outputs": [
    {
     "data": {
      "text/plain": [
       "(9407, 7)"
      ]
     },
     "execution_count": 93,
     "metadata": {},
     "output_type": "execute_result"
    }
   ],
   "source": [
    "data4.shape"
   ]
  },
  {
   "cell_type": "code",
   "execution_count": 95,
   "id": "cba85603-6d22-492d-8063-ffac86102209",
   "metadata": {},
   "outputs": [
    {
     "data": {
      "text/plain": [
       "(4733, 7)"
      ]
     },
     "execution_count": 95,
     "metadata": {},
     "output_type": "execute_result"
    }
   ],
   "source": [
    "data5.shape"
   ]
  },
  {
   "cell_type": "code",
   "execution_count": 97,
   "id": "685677cd-e889-47b7-b271-767ece89d10f",
   "metadata": {},
   "outputs": [],
   "source": [
    "# data5.hist(figsize=(12, 10))"
   ]
  },
  {
   "cell_type": "code",
   "execution_count": 99,
   "id": "62ac329f-4654-4d77-b5d6-f8f5c1df5d2d",
   "metadata": {},
   "outputs": [],
   "source": [
    "# pairplot = sns.pairplot(data5)\n",
    "# pairplot.savefig(\"pairplot.png\") "
   ]
  },
  {
   "cell_type": "code",
   "execution_count": 101,
   "id": "422e3e45-69fe-4269-822e-58659523a5d7",
   "metadata": {},
   "outputs": [
    {
     "data": {
      "text/html": [
       "<div>\n",
       "<style scoped>\n",
       "    .dataframe tbody tr th:only-of-type {\n",
       "        vertical-align: middle;\n",
       "    }\n",
       "\n",
       "    .dataframe tbody tr th {\n",
       "        vertical-align: top;\n",
       "    }\n",
       "\n",
       "    .dataframe thead th {\n",
       "        text-align: right;\n",
       "    }\n",
       "</style>\n",
       "<table border=\"1\" class=\"dataframe\">\n",
       "  <thead>\n",
       "    <tr style=\"text-align: right;\">\n",
       "      <th></th>\n",
       "      <th>Area</th>\n",
       "      <th>Bed</th>\n",
       "      <th>Bath</th>\n",
       "      <th>Price</th>\n",
       "      <th>Place</th>\n",
       "    </tr>\n",
       "  </thead>\n",
       "  <tbody>\n",
       "    <tr>\n",
       "      <th>10</th>\n",
       "      <td>1550.0</td>\n",
       "      <td>3</td>\n",
       "      <td>3</td>\n",
       "      <td>30000.0</td>\n",
       "      <td>Adabor</td>\n",
       "    </tr>\n",
       "    <tr>\n",
       "      <th>13</th>\n",
       "      <td>800.0</td>\n",
       "      <td>2</td>\n",
       "      <td>2</td>\n",
       "      <td>16000.0</td>\n",
       "      <td>Adabor</td>\n",
       "    </tr>\n",
       "    <tr>\n",
       "      <th>14</th>\n",
       "      <td>850.0</td>\n",
       "      <td>2</td>\n",
       "      <td>2</td>\n",
       "      <td>15000.0</td>\n",
       "      <td>Adabor</td>\n",
       "    </tr>\n",
       "  </tbody>\n",
       "</table>\n",
       "</div>"
      ],
      "text/plain": [
       "      Area  Bed  Bath    Price   Place\n",
       "10  1550.0    3     3  30000.0  Adabor\n",
       "13   800.0    2     2  16000.0  Adabor\n",
       "14   850.0    2     2  15000.0  Adabor"
      ]
     },
     "execution_count": 101,
     "metadata": {},
     "output_type": "execute_result"
    }
   ],
   "source": [
    "df1 = data5.drop(['Location','price_per_sqft'],axis='columns')\n",
    "df1.head(3)"
   ]
  },
  {
   "cell_type": "markdown",
   "id": "e9f4518c-1823-477e-8074-6048ba4b5ec6",
   "metadata": {},
   "source": [
    "# One hot encoding"
   ]
  },
  {
   "cell_type": "code",
   "execution_count": 104,
   "id": "de595062-92ad-4fea-ad38-bfba3d586800",
   "metadata": {},
   "outputs": [
    {
     "data": {
      "text/html": [
       "<div>\n",
       "<style scoped>\n",
       "    .dataframe tbody tr th:only-of-type {\n",
       "        vertical-align: middle;\n",
       "    }\n",
       "\n",
       "    .dataframe tbody tr th {\n",
       "        vertical-align: top;\n",
       "    }\n",
       "\n",
       "    .dataframe thead th {\n",
       "        text-align: right;\n",
       "    }\n",
       "</style>\n",
       "<table border=\"1\" class=\"dataframe\">\n",
       "  <thead>\n",
       "    <tr style=\"text-align: right;\">\n",
       "      <th></th>\n",
       "      <th>Adabor</th>\n",
       "      <th>Aftab Nagar</th>\n",
       "      <th>Agargaon</th>\n",
       "      <th>Badda</th>\n",
       "      <th>Banani</th>\n",
       "      <th>Banani DOHS</th>\n",
       "      <th>Banasree</th>\n",
       "      <th>Bangshal</th>\n",
       "      <th>Baridhara</th>\n",
       "      <th>Baridhara DOHS</th>\n",
       "      <th>...</th>\n",
       "      <th>Shantinagar</th>\n",
       "      <th>Shegunbagicha</th>\n",
       "      <th>Shiddheswari</th>\n",
       "      <th>Shyamoli</th>\n",
       "      <th>Shyampur</th>\n",
       "      <th>Sutrapur</th>\n",
       "      <th>Tejgaon</th>\n",
       "      <th>Turag</th>\n",
       "      <th>Uttara</th>\n",
       "      <th>other</th>\n",
       "    </tr>\n",
       "  </thead>\n",
       "  <tbody>\n",
       "    <tr>\n",
       "      <th>10</th>\n",
       "      <td>True</td>\n",
       "      <td>False</td>\n",
       "      <td>False</td>\n",
       "      <td>False</td>\n",
       "      <td>False</td>\n",
       "      <td>False</td>\n",
       "      <td>False</td>\n",
       "      <td>False</td>\n",
       "      <td>False</td>\n",
       "      <td>False</td>\n",
       "      <td>...</td>\n",
       "      <td>False</td>\n",
       "      <td>False</td>\n",
       "      <td>False</td>\n",
       "      <td>False</td>\n",
       "      <td>False</td>\n",
       "      <td>False</td>\n",
       "      <td>False</td>\n",
       "      <td>False</td>\n",
       "      <td>False</td>\n",
       "      <td>False</td>\n",
       "    </tr>\n",
       "    <tr>\n",
       "      <th>13</th>\n",
       "      <td>True</td>\n",
       "      <td>False</td>\n",
       "      <td>False</td>\n",
       "      <td>False</td>\n",
       "      <td>False</td>\n",
       "      <td>False</td>\n",
       "      <td>False</td>\n",
       "      <td>False</td>\n",
       "      <td>False</td>\n",
       "      <td>False</td>\n",
       "      <td>...</td>\n",
       "      <td>False</td>\n",
       "      <td>False</td>\n",
       "      <td>False</td>\n",
       "      <td>False</td>\n",
       "      <td>False</td>\n",
       "      <td>False</td>\n",
       "      <td>False</td>\n",
       "      <td>False</td>\n",
       "      <td>False</td>\n",
       "      <td>False</td>\n",
       "    </tr>\n",
       "    <tr>\n",
       "      <th>14</th>\n",
       "      <td>True</td>\n",
       "      <td>False</td>\n",
       "      <td>False</td>\n",
       "      <td>False</td>\n",
       "      <td>False</td>\n",
       "      <td>False</td>\n",
       "      <td>False</td>\n",
       "      <td>False</td>\n",
       "      <td>False</td>\n",
       "      <td>False</td>\n",
       "      <td>...</td>\n",
       "      <td>False</td>\n",
       "      <td>False</td>\n",
       "      <td>False</td>\n",
       "      <td>False</td>\n",
       "      <td>False</td>\n",
       "      <td>False</td>\n",
       "      <td>False</td>\n",
       "      <td>False</td>\n",
       "      <td>False</td>\n",
       "      <td>False</td>\n",
       "    </tr>\n",
       "  </tbody>\n",
       "</table>\n",
       "<p>3 rows × 55 columns</p>\n",
       "</div>"
      ],
      "text/plain": [
       "    Adabor  Aftab Nagar  Agargaon  Badda  Banani  Banani DOHS  Banasree  \\\n",
       "10    True        False     False  False   False        False     False   \n",
       "13    True        False     False  False   False        False     False   \n",
       "14    True        False     False  False   False        False     False   \n",
       "\n",
       "    Bangshal  Baridhara  Baridhara DOHS  ...  Shantinagar  Shegunbagicha  \\\n",
       "10     False      False           False  ...        False          False   \n",
       "13     False      False           False  ...        False          False   \n",
       "14     False      False           False  ...        False          False   \n",
       "\n",
       "    Shiddheswari  Shyamoli  Shyampur  Sutrapur  Tejgaon  Turag  Uttara  other  \n",
       "10         False     False     False     False    False  False   False  False  \n",
       "13         False     False     False     False    False  False   False  False  \n",
       "14         False     False     False     False    False  False   False  False  \n",
       "\n",
       "[3 rows x 55 columns]"
      ]
     },
     "execution_count": 104,
     "metadata": {},
     "output_type": "execute_result"
    }
   ],
   "source": [
    "dummies = pd.get_dummies(df1.Place)\n",
    "dummies.head(3)"
   ]
  },
  {
   "cell_type": "code",
   "execution_count": 106,
   "id": "6186703c-fa17-4e73-adf7-30495e6f12a4",
   "metadata": {},
   "outputs": [
    {
     "data": {
      "text/html": [
       "<div>\n",
       "<style scoped>\n",
       "    .dataframe tbody tr th:only-of-type {\n",
       "        vertical-align: middle;\n",
       "    }\n",
       "\n",
       "    .dataframe tbody tr th {\n",
       "        vertical-align: top;\n",
       "    }\n",
       "\n",
       "    .dataframe thead th {\n",
       "        text-align: right;\n",
       "    }\n",
       "</style>\n",
       "<table border=\"1\" class=\"dataframe\">\n",
       "  <thead>\n",
       "    <tr style=\"text-align: right;\">\n",
       "      <th></th>\n",
       "      <th>Area</th>\n",
       "      <th>Bed</th>\n",
       "      <th>Bath</th>\n",
       "      <th>Price</th>\n",
       "      <th>Place</th>\n",
       "      <th>Adabor</th>\n",
       "      <th>Aftab Nagar</th>\n",
       "      <th>Agargaon</th>\n",
       "      <th>Badda</th>\n",
       "      <th>Banani</th>\n",
       "      <th>...</th>\n",
       "      <th>Shahjahanpur</th>\n",
       "      <th>Shantinagar</th>\n",
       "      <th>Shegunbagicha</th>\n",
       "      <th>Shiddheswari</th>\n",
       "      <th>Shyamoli</th>\n",
       "      <th>Shyampur</th>\n",
       "      <th>Sutrapur</th>\n",
       "      <th>Tejgaon</th>\n",
       "      <th>Turag</th>\n",
       "      <th>Uttara</th>\n",
       "    </tr>\n",
       "  </thead>\n",
       "  <tbody>\n",
       "    <tr>\n",
       "      <th>10</th>\n",
       "      <td>1550.0</td>\n",
       "      <td>3</td>\n",
       "      <td>3</td>\n",
       "      <td>30000.0</td>\n",
       "      <td>Adabor</td>\n",
       "      <td>True</td>\n",
       "      <td>False</td>\n",
       "      <td>False</td>\n",
       "      <td>False</td>\n",
       "      <td>False</td>\n",
       "      <td>...</td>\n",
       "      <td>False</td>\n",
       "      <td>False</td>\n",
       "      <td>False</td>\n",
       "      <td>False</td>\n",
       "      <td>False</td>\n",
       "      <td>False</td>\n",
       "      <td>False</td>\n",
       "      <td>False</td>\n",
       "      <td>False</td>\n",
       "      <td>False</td>\n",
       "    </tr>\n",
       "    <tr>\n",
       "      <th>13</th>\n",
       "      <td>800.0</td>\n",
       "      <td>2</td>\n",
       "      <td>2</td>\n",
       "      <td>16000.0</td>\n",
       "      <td>Adabor</td>\n",
       "      <td>True</td>\n",
       "      <td>False</td>\n",
       "      <td>False</td>\n",
       "      <td>False</td>\n",
       "      <td>False</td>\n",
       "      <td>...</td>\n",
       "      <td>False</td>\n",
       "      <td>False</td>\n",
       "      <td>False</td>\n",
       "      <td>False</td>\n",
       "      <td>False</td>\n",
       "      <td>False</td>\n",
       "      <td>False</td>\n",
       "      <td>False</td>\n",
       "      <td>False</td>\n",
       "      <td>False</td>\n",
       "    </tr>\n",
       "    <tr>\n",
       "      <th>14</th>\n",
       "      <td>850.0</td>\n",
       "      <td>2</td>\n",
       "      <td>2</td>\n",
       "      <td>15000.0</td>\n",
       "      <td>Adabor</td>\n",
       "      <td>True</td>\n",
       "      <td>False</td>\n",
       "      <td>False</td>\n",
       "      <td>False</td>\n",
       "      <td>False</td>\n",
       "      <td>...</td>\n",
       "      <td>False</td>\n",
       "      <td>False</td>\n",
       "      <td>False</td>\n",
       "      <td>False</td>\n",
       "      <td>False</td>\n",
       "      <td>False</td>\n",
       "      <td>False</td>\n",
       "      <td>False</td>\n",
       "      <td>False</td>\n",
       "      <td>False</td>\n",
       "    </tr>\n",
       "    <tr>\n",
       "      <th>20</th>\n",
       "      <td>800.0</td>\n",
       "      <td>2</td>\n",
       "      <td>2</td>\n",
       "      <td>15000.0</td>\n",
       "      <td>Adabor</td>\n",
       "      <td>True</td>\n",
       "      <td>False</td>\n",
       "      <td>False</td>\n",
       "      <td>False</td>\n",
       "      <td>False</td>\n",
       "      <td>...</td>\n",
       "      <td>False</td>\n",
       "      <td>False</td>\n",
       "      <td>False</td>\n",
       "      <td>False</td>\n",
       "      <td>False</td>\n",
       "      <td>False</td>\n",
       "      <td>False</td>\n",
       "      <td>False</td>\n",
       "      <td>False</td>\n",
       "      <td>False</td>\n",
       "    </tr>\n",
       "    <tr>\n",
       "      <th>21</th>\n",
       "      <td>800.0</td>\n",
       "      <td>2</td>\n",
       "      <td>2</td>\n",
       "      <td>15000.0</td>\n",
       "      <td>Adabor</td>\n",
       "      <td>True</td>\n",
       "      <td>False</td>\n",
       "      <td>False</td>\n",
       "      <td>False</td>\n",
       "      <td>False</td>\n",
       "      <td>...</td>\n",
       "      <td>False</td>\n",
       "      <td>False</td>\n",
       "      <td>False</td>\n",
       "      <td>False</td>\n",
       "      <td>False</td>\n",
       "      <td>False</td>\n",
       "      <td>False</td>\n",
       "      <td>False</td>\n",
       "      <td>False</td>\n",
       "      <td>False</td>\n",
       "    </tr>\n",
       "  </tbody>\n",
       "</table>\n",
       "<p>5 rows × 59 columns</p>\n",
       "</div>"
      ],
      "text/plain": [
       "      Area  Bed  Bath    Price   Place  Adabor  Aftab Nagar  Agargaon  Badda  \\\n",
       "10  1550.0    3     3  30000.0  Adabor    True        False     False  False   \n",
       "13   800.0    2     2  16000.0  Adabor    True        False     False  False   \n",
       "14   850.0    2     2  15000.0  Adabor    True        False     False  False   \n",
       "20   800.0    2     2  15000.0  Adabor    True        False     False  False   \n",
       "21   800.0    2     2  15000.0  Adabor    True        False     False  False   \n",
       "\n",
       "    Banani  ...  Shahjahanpur  Shantinagar  Shegunbagicha  Shiddheswari  \\\n",
       "10   False  ...         False        False          False         False   \n",
       "13   False  ...         False        False          False         False   \n",
       "14   False  ...         False        False          False         False   \n",
       "20   False  ...         False        False          False         False   \n",
       "21   False  ...         False        False          False         False   \n",
       "\n",
       "    Shyamoli  Shyampur  Sutrapur  Tejgaon  Turag  Uttara  \n",
       "10     False     False     False    False  False   False  \n",
       "13     False     False     False    False  False   False  \n",
       "14     False     False     False    False  False   False  \n",
       "20     False     False     False    False  False   False  \n",
       "21     False     False     False    False  False   False  \n",
       "\n",
       "[5 rows x 59 columns]"
      ]
     },
     "execution_count": 106,
     "metadata": {},
     "output_type": "execute_result"
    }
   ],
   "source": [
    "df11 = pd.concat([df1,dummies.drop('other',axis='columns')],axis='columns')\n",
    "df11.head()"
   ]
  },
  {
   "cell_type": "code",
   "execution_count": 108,
   "id": "9f1357b4-b938-4795-ab86-dfab7c8181be",
   "metadata": {},
   "outputs": [
    {
     "data": {
      "text/html": [
       "<div>\n",
       "<style scoped>\n",
       "    .dataframe tbody tr th:only-of-type {\n",
       "        vertical-align: middle;\n",
       "    }\n",
       "\n",
       "    .dataframe tbody tr th {\n",
       "        vertical-align: top;\n",
       "    }\n",
       "\n",
       "    .dataframe thead th {\n",
       "        text-align: right;\n",
       "    }\n",
       "</style>\n",
       "<table border=\"1\" class=\"dataframe\">\n",
       "  <thead>\n",
       "    <tr style=\"text-align: right;\">\n",
       "      <th></th>\n",
       "      <th>Area</th>\n",
       "      <th>Bed</th>\n",
       "      <th>Bath</th>\n",
       "      <th>Price</th>\n",
       "      <th>Adabor</th>\n",
       "      <th>Aftab Nagar</th>\n",
       "      <th>Agargaon</th>\n",
       "      <th>Badda</th>\n",
       "      <th>Banani</th>\n",
       "      <th>Banani DOHS</th>\n",
       "      <th>...</th>\n",
       "      <th>Shahjahanpur</th>\n",
       "      <th>Shantinagar</th>\n",
       "      <th>Shegunbagicha</th>\n",
       "      <th>Shiddheswari</th>\n",
       "      <th>Shyamoli</th>\n",
       "      <th>Shyampur</th>\n",
       "      <th>Sutrapur</th>\n",
       "      <th>Tejgaon</th>\n",
       "      <th>Turag</th>\n",
       "      <th>Uttara</th>\n",
       "    </tr>\n",
       "  </thead>\n",
       "  <tbody>\n",
       "    <tr>\n",
       "      <th>10</th>\n",
       "      <td>1550.0</td>\n",
       "      <td>3</td>\n",
       "      <td>3</td>\n",
       "      <td>30000.0</td>\n",
       "      <td>True</td>\n",
       "      <td>False</td>\n",
       "      <td>False</td>\n",
       "      <td>False</td>\n",
       "      <td>False</td>\n",
       "      <td>False</td>\n",
       "      <td>...</td>\n",
       "      <td>False</td>\n",
       "      <td>False</td>\n",
       "      <td>False</td>\n",
       "      <td>False</td>\n",
       "      <td>False</td>\n",
       "      <td>False</td>\n",
       "      <td>False</td>\n",
       "      <td>False</td>\n",
       "      <td>False</td>\n",
       "      <td>False</td>\n",
       "    </tr>\n",
       "    <tr>\n",
       "      <th>13</th>\n",
       "      <td>800.0</td>\n",
       "      <td>2</td>\n",
       "      <td>2</td>\n",
       "      <td>16000.0</td>\n",
       "      <td>True</td>\n",
       "      <td>False</td>\n",
       "      <td>False</td>\n",
       "      <td>False</td>\n",
       "      <td>False</td>\n",
       "      <td>False</td>\n",
       "      <td>...</td>\n",
       "      <td>False</td>\n",
       "      <td>False</td>\n",
       "      <td>False</td>\n",
       "      <td>False</td>\n",
       "      <td>False</td>\n",
       "      <td>False</td>\n",
       "      <td>False</td>\n",
       "      <td>False</td>\n",
       "      <td>False</td>\n",
       "      <td>False</td>\n",
       "    </tr>\n",
       "  </tbody>\n",
       "</table>\n",
       "<p>2 rows × 58 columns</p>\n",
       "</div>"
      ],
      "text/plain": [
       "      Area  Bed  Bath    Price  Adabor  Aftab Nagar  Agargaon  Badda  Banani  \\\n",
       "10  1550.0    3     3  30000.0    True        False     False  False   False   \n",
       "13   800.0    2     2  16000.0    True        False     False  False   False   \n",
       "\n",
       "    Banani DOHS  ...  Shahjahanpur  Shantinagar  Shegunbagicha  Shiddheswari  \\\n",
       "10        False  ...         False        False          False         False   \n",
       "13        False  ...         False        False          False         False   \n",
       "\n",
       "    Shyamoli  Shyampur  Sutrapur  Tejgaon  Turag  Uttara  \n",
       "10     False     False     False    False  False   False  \n",
       "13     False     False     False    False  False   False  \n",
       "\n",
       "[2 rows x 58 columns]"
      ]
     },
     "execution_count": 108,
     "metadata": {},
     "output_type": "execute_result"
    }
   ],
   "source": [
    "df12 = df11.drop('Place',axis='columns')\n",
    "df12.head(2)"
   ]
  },
  {
   "cell_type": "code",
   "execution_count": 110,
   "id": "ef53dc3a-34c8-4a21-b586-70176e3d7d3c",
   "metadata": {},
   "outputs": [
    {
     "data": {
      "text/plain": [
       "(4733, 58)"
      ]
     },
     "execution_count": 110,
     "metadata": {},
     "output_type": "execute_result"
    }
   ],
   "source": [
    "df12.shape"
   ]
  },
  {
   "cell_type": "markdown",
   "id": "49b40094-d920-4aae-ab2f-6337756a1b03",
   "metadata": {},
   "source": [
    "# Prediction"
   ]
  },
  {
   "cell_type": "code",
   "execution_count": 113,
   "id": "ce88afda-d01c-40e5-b8f9-85e9b7a0740c",
   "metadata": {},
   "outputs": [
    {
     "data": {
      "text/html": [
       "<div>\n",
       "<style scoped>\n",
       "    .dataframe tbody tr th:only-of-type {\n",
       "        vertical-align: middle;\n",
       "    }\n",
       "\n",
       "    .dataframe tbody tr th {\n",
       "        vertical-align: top;\n",
       "    }\n",
       "\n",
       "    .dataframe thead th {\n",
       "        text-align: right;\n",
       "    }\n",
       "</style>\n",
       "<table border=\"1\" class=\"dataframe\">\n",
       "  <thead>\n",
       "    <tr style=\"text-align: right;\">\n",
       "      <th></th>\n",
       "      <th>Area</th>\n",
       "      <th>Bed</th>\n",
       "      <th>Bath</th>\n",
       "      <th>Adabor</th>\n",
       "      <th>Aftab Nagar</th>\n",
       "      <th>Agargaon</th>\n",
       "      <th>Badda</th>\n",
       "      <th>Banani</th>\n",
       "      <th>Banani DOHS</th>\n",
       "      <th>Banasree</th>\n",
       "      <th>...</th>\n",
       "      <th>Shahjahanpur</th>\n",
       "      <th>Shantinagar</th>\n",
       "      <th>Shegunbagicha</th>\n",
       "      <th>Shiddheswari</th>\n",
       "      <th>Shyamoli</th>\n",
       "      <th>Shyampur</th>\n",
       "      <th>Sutrapur</th>\n",
       "      <th>Tejgaon</th>\n",
       "      <th>Turag</th>\n",
       "      <th>Uttara</th>\n",
       "    </tr>\n",
       "  </thead>\n",
       "  <tbody>\n",
       "    <tr>\n",
       "      <th>10</th>\n",
       "      <td>1550.0</td>\n",
       "      <td>3</td>\n",
       "      <td>3</td>\n",
       "      <td>True</td>\n",
       "      <td>False</td>\n",
       "      <td>False</td>\n",
       "      <td>False</td>\n",
       "      <td>False</td>\n",
       "      <td>False</td>\n",
       "      <td>False</td>\n",
       "      <td>...</td>\n",
       "      <td>False</td>\n",
       "      <td>False</td>\n",
       "      <td>False</td>\n",
       "      <td>False</td>\n",
       "      <td>False</td>\n",
       "      <td>False</td>\n",
       "      <td>False</td>\n",
       "      <td>False</td>\n",
       "      <td>False</td>\n",
       "      <td>False</td>\n",
       "    </tr>\n",
       "    <tr>\n",
       "      <th>13</th>\n",
       "      <td>800.0</td>\n",
       "      <td>2</td>\n",
       "      <td>2</td>\n",
       "      <td>True</td>\n",
       "      <td>False</td>\n",
       "      <td>False</td>\n",
       "      <td>False</td>\n",
       "      <td>False</td>\n",
       "      <td>False</td>\n",
       "      <td>False</td>\n",
       "      <td>...</td>\n",
       "      <td>False</td>\n",
       "      <td>False</td>\n",
       "      <td>False</td>\n",
       "      <td>False</td>\n",
       "      <td>False</td>\n",
       "      <td>False</td>\n",
       "      <td>False</td>\n",
       "      <td>False</td>\n",
       "      <td>False</td>\n",
       "      <td>False</td>\n",
       "    </tr>\n",
       "    <tr>\n",
       "      <th>14</th>\n",
       "      <td>850.0</td>\n",
       "      <td>2</td>\n",
       "      <td>2</td>\n",
       "      <td>True</td>\n",
       "      <td>False</td>\n",
       "      <td>False</td>\n",
       "      <td>False</td>\n",
       "      <td>False</td>\n",
       "      <td>False</td>\n",
       "      <td>False</td>\n",
       "      <td>...</td>\n",
       "      <td>False</td>\n",
       "      <td>False</td>\n",
       "      <td>False</td>\n",
       "      <td>False</td>\n",
       "      <td>False</td>\n",
       "      <td>False</td>\n",
       "      <td>False</td>\n",
       "      <td>False</td>\n",
       "      <td>False</td>\n",
       "      <td>False</td>\n",
       "    </tr>\n",
       "  </tbody>\n",
       "</table>\n",
       "<p>3 rows × 57 columns</p>\n",
       "</div>"
      ],
      "text/plain": [
       "      Area  Bed  Bath  Adabor  Aftab Nagar  Agargaon  Badda  Banani  \\\n",
       "10  1550.0    3     3    True        False     False  False   False   \n",
       "13   800.0    2     2    True        False     False  False   False   \n",
       "14   850.0    2     2    True        False     False  False   False   \n",
       "\n",
       "    Banani DOHS  Banasree  ...  Shahjahanpur  Shantinagar  Shegunbagicha  \\\n",
       "10        False     False  ...         False        False          False   \n",
       "13        False     False  ...         False        False          False   \n",
       "14        False     False  ...         False        False          False   \n",
       "\n",
       "    Shiddheswari  Shyamoli  Shyampur  Sutrapur  Tejgaon  Turag  Uttara  \n",
       "10         False     False     False     False    False  False   False  \n",
       "13         False     False     False     False    False  False   False  \n",
       "14         False     False     False     False    False  False   False  \n",
       "\n",
       "[3 rows x 57 columns]"
      ]
     },
     "execution_count": 113,
     "metadata": {},
     "output_type": "execute_result"
    }
   ],
   "source": [
    "X = df12.drop(['Price'],axis='columns')\n",
    "X.head(3)"
   ]
  },
  {
   "cell_type": "code",
   "execution_count": 115,
   "id": "21747bf2-d1c6-4a2d-b7e5-703caa14bc87",
   "metadata": {},
   "outputs": [
    {
     "data": {
      "text/plain": [
       "(4733, 57)"
      ]
     },
     "execution_count": 115,
     "metadata": {},
     "output_type": "execute_result"
    }
   ],
   "source": [
    "X.shape"
   ]
  },
  {
   "cell_type": "code",
   "execution_count": 117,
   "id": "0dc5d7e0-6425-4997-b69d-28eb3557f599",
   "metadata": {},
   "outputs": [
    {
     "data": {
      "text/plain": [
       "10    30000.0\n",
       "13    16000.0\n",
       "14    15000.0\n",
       "Name: Price, dtype: float64"
      ]
     },
     "execution_count": 117,
     "metadata": {},
     "output_type": "execute_result"
    }
   ],
   "source": [
    "y = df12.Price\n",
    "y.head(3)"
   ]
  },
  {
   "cell_type": "code",
   "execution_count": 119,
   "id": "adf54ba0-da04-4b47-bb19-68a2ae99b8cd",
   "metadata": {},
   "outputs": [
    {
     "data": {
      "text/plain": [
       "4733"
      ]
     },
     "execution_count": 119,
     "metadata": {},
     "output_type": "execute_result"
    }
   ],
   "source": [
    "len(y)"
   ]
  },
  {
   "cell_type": "code",
   "execution_count": 121,
   "id": "8621665b-9469-4520-9dba-2154c0b3633c",
   "metadata": {},
   "outputs": [],
   "source": [
    "from sklearn.model_selection import train_test_split\n",
    "X_train, X_test, y_train, y_test = train_test_split(X,y,test_size=0.2,random_state=10)"
   ]
  },
  {
   "cell_type": "code",
   "execution_count": 122,
   "id": "abbebca8-4660-409c-9a7a-16b2e2d8ed96",
   "metadata": {},
   "outputs": [
    {
     "data": {
      "text/plain": [
       "0.9450136542313003"
      ]
     },
     "execution_count": 122,
     "metadata": {},
     "output_type": "execute_result"
    }
   ],
   "source": [
    "from sklearn.linear_model import LinearRegression\n",
    "lr_clf = LinearRegression()\n",
    "lr_clf.fit(X_train,y_train)\n",
    "lr_clf.score(X_test,y_test)"
   ]
  },
  {
   "cell_type": "code",
   "execution_count": 123,
   "id": "e386e07e-6d45-40cb-8cfe-9d83155a7475",
   "metadata": {},
   "outputs": [
    {
     "data": {
      "text/plain": [
       "array([0.9337888 , 0.92208904, 0.91399246, 0.90927368, 0.9254476 ])"
      ]
     },
     "execution_count": 123,
     "metadata": {},
     "output_type": "execute_result"
    }
   ],
   "source": [
    "from sklearn.model_selection import ShuffleSplit\n",
    "from sklearn.model_selection import cross_val_score\n",
    "\n",
    "cv = ShuffleSplit(n_splits=5, test_size=0.2, random_state=0)\n",
    "\n",
    "cross_val_score(LinearRegression(), X, y, cv=cv)"
   ]
  },
  {
   "cell_type": "code",
   "execution_count": 125,
   "id": "0eab079a-8ad9-41c6-bfb5-579111dde433",
   "metadata": {},
   "outputs": [
    {
     "data": {
      "text/html": [
       "<div>\n",
       "<style scoped>\n",
       "    .dataframe tbody tr th:only-of-type {\n",
       "        vertical-align: middle;\n",
       "    }\n",
       "\n",
       "    .dataframe tbody tr th {\n",
       "        vertical-align: top;\n",
       "    }\n",
       "\n",
       "    .dataframe thead th {\n",
       "        text-align: right;\n",
       "    }\n",
       "</style>\n",
       "<table border=\"1\" class=\"dataframe\">\n",
       "  <thead>\n",
       "    <tr style=\"text-align: right;\">\n",
       "      <th></th>\n",
       "      <th>model</th>\n",
       "      <th>best_score</th>\n",
       "      <th>best_params</th>\n",
       "    </tr>\n",
       "  </thead>\n",
       "  <tbody>\n",
       "    <tr>\n",
       "      <th>0</th>\n",
       "      <td>linear_regression</td>\n",
       "      <td>0.920963</td>\n",
       "      <td>{'fit_intercept': False}</td>\n",
       "    </tr>\n",
       "    <tr>\n",
       "      <th>1</th>\n",
       "      <td>lasso</td>\n",
       "      <td>0.920979</td>\n",
       "      <td>{'alpha': 1, 'selection': 'cyclic'}</td>\n",
       "    </tr>\n",
       "    <tr>\n",
       "      <th>2</th>\n",
       "      <td>decision_tree</td>\n",
       "      <td>0.932217</td>\n",
       "      <td>{'criterion': 'squared_error', 'splitter': 'ra...</td>\n",
       "    </tr>\n",
       "  </tbody>\n",
       "</table>\n",
       "</div>"
      ],
      "text/plain": [
       "               model  best_score  \\\n",
       "0  linear_regression    0.920963   \n",
       "1              lasso    0.920979   \n",
       "2      decision_tree    0.932217   \n",
       "\n",
       "                                         best_params  \n",
       "0                           {'fit_intercept': False}  \n",
       "1                {'alpha': 1, 'selection': 'cyclic'}  \n",
       "2  {'criterion': 'squared_error', 'splitter': 'ra...  "
      ]
     },
     "execution_count": 125,
     "metadata": {},
     "output_type": "execute_result"
    }
   ],
   "source": [
    "from sklearn.model_selection import GridSearchCV, ShuffleSplit\n",
    "from sklearn.linear_model import LinearRegression, Lasso\n",
    "from sklearn.tree import DecisionTreeRegressor\n",
    "import pandas as pd\n",
    "\n",
    "def find_best_model_using_gridsearchcv(X, y):\n",
    "    algos = {\n",
    "        'linear_regression' : {\n",
    "            'model': LinearRegression(),\n",
    "            'params': {\n",
    "                'fit_intercept': [True, False]\n",
    "            }\n",
    "        },\n",
    "        'lasso': {\n",
    "            'model': Lasso(),\n",
    "            'params': {\n",
    "                'alpha': [1, 2],\n",
    "                'selection': ['random', 'cyclic']\n",
    "            }\n",
    "        },\n",
    "        'decision_tree': {\n",
    "            'model': DecisionTreeRegressor(),\n",
    "            'params': {\n",
    "                'criterion' : ['squared_error', 'friedman_mse'],\n",
    "                'splitter': ['best', 'random']\n",
    "            }\n",
    "        }\n",
    "    }\n",
    "    scores = []\n",
    "    cv = ShuffleSplit(n_splits=5, test_size=0.2, random_state=0)\n",
    "    for algo_name, config in algos.items():\n",
    "        gs =  GridSearchCV(config['model'], config['params'], cv=cv, return_train_score=False)\n",
    "        gs.fit(X, y)\n",
    "        scores.append({\n",
    "            'model': algo_name,\n",
    "            'best_score': gs.best_score_,\n",
    "            'best_params': gs.best_params_\n",
    "        })\n",
    "\n",
    "    return pd.DataFrame(scores, columns=['model', 'best_score', 'best_params'])\n",
    "\n",
    "# Example usage\n",
    "results = find_best_model_using_gridsearchcv(X, y)\n",
    "results\n"
   ]
  },
  {
   "cell_type": "code",
   "execution_count": 128,
   "id": "aaa66ecb-94f5-4913-8096-c37d74667de7",
   "metadata": {},
   "outputs": [
    {
     "name": "stdout",
     "output_type": "stream",
     "text": [
      "0.8104892816991571 0.17344849955827277\n"
     ]
    }
   ],
   "source": [
    "from sklearn.model_selection import cross_val_score\n",
    "\n",
    "cv_scores = cross_val_score(DecisionTreeRegressor(criterion='squared_error', splitter='random'), X, y, cv=10)\n",
    "print(cv_scores.mean(), cv_scores.std())"
   ]
  },
  {
   "cell_type": "code",
   "execution_count": 129,
   "id": "997b4f74-66c9-42df-842d-6e978d0e2ba9",
   "metadata": {},
   "outputs": [],
   "source": [
    "def predict_price(location, sqft, bath, beds):    \n",
    "    loc_index = np.where(X.columns == location)[0][0]\n",
    "\n",
    "    # Create an empty feature vector with the same number of columns as X\n",
    "    x = np.zeros(len(X.columns))\n",
    "    x[0] = sqft\n",
    "    x[1] = beds\n",
    "    x[2] = bath\n",
    "\n",
    "    # Set the location feature to 1\n",
    "    if loc_index >= 0:\n",
    "        x[loc_index] = 1\n",
    "\n",
    "    # Convert the array to a DataFrame with appropriate column names\n",
    "    x_df = pd.DataFrame([x], columns=X.columns)\n",
    "\n",
    "    # Predict using the model\n",
    "    return lr_clf.predict(x_df)[0]"
   ]
  },
  {
   "cell_type": "code",
   "execution_count": 133,
   "id": "1f4a9aa8-2c36-4e81-9c14-b0a4a678b265",
   "metadata": {},
   "outputs": [],
   "source": [
    "feature_columns = X.columns  # Column names from your training data\n"
   ]
  },
  {
   "cell_type": "code",
   "execution_count": 139,
   "id": "0690749a-ead5-464b-9b4b-d4428b4f105e",
   "metadata": {},
   "outputs": [
    {
     "name": "stdout",
     "output_type": "stream",
     "text": [
      "30770.593053933815\n"
     ]
    }
   ],
   "source": [
    "predicted_price = predict_price('Bashundhara R-A', 1500, 3, 3)\n",
    "print(predicted_price)"
   ]
  },
  {
   "cell_type": "code",
   "execution_count": 147,
   "id": "b709c70a-d7c2-4651-ad3b-8ae03085885d",
   "metadata": {},
   "outputs": [
    {
     "name": "stdout",
     "output_type": "stream",
     "text": [
      "9202.633275527514\n"
     ]
    }
   ],
   "source": [
    "predicted_price = predict_price('Adabor',800, 3, 3)\n",
    "print(predicted_price)"
   ]
  },
  {
   "cell_type": "markdown",
   "id": "8886cb07-b16a-4468-a1cd-064b741eb7a3",
   "metadata": {},
   "source": [
    "# pickle and columns file save"
   ]
  },
  {
   "cell_type": "code",
   "execution_count": 149,
   "id": "1f71b276-63c2-4e06-8fba-5c93d49ccc01",
   "metadata": {},
   "outputs": [],
   "source": [
    "import pickle\n",
    "with open('dhaka_home_rent_model.pickle','wb') as f:\n",
    "    pickle.dump(lr_clf,f)"
   ]
  },
  {
   "cell_type": "code",
   "execution_count": 151,
   "id": "422f31ec-11cc-4e75-b9db-ec1511b45974",
   "metadata": {},
   "outputs": [],
   "source": [
    "import json\n",
    "columns = {\n",
    "    'data_columns' : [col.lower() for col in X.columns]\n",
    "}\n",
    "with open(\"columns.json\",\"w\") as f:\n",
    "    f.write(json.dumps(columns))"
   ]
  },
  {
   "cell_type": "code",
   "execution_count": null,
   "id": "12b3f073-9430-4747-ba02-06666655977a",
   "metadata": {},
   "outputs": [],
   "source": []
  }
 ],
 "metadata": {
  "kernelspec": {
   "display_name": "Python 3 (ipykernel)",
   "language": "python",
   "name": "python3"
  },
  "language_info": {
   "codemirror_mode": {
    "name": "ipython",
    "version": 3
   },
   "file_extension": ".py",
   "mimetype": "text/x-python",
   "name": "python",
   "nbconvert_exporter": "python",
   "pygments_lexer": "ipython3",
   "version": "3.12.3"
  }
 },
 "nbformat": 4,
 "nbformat_minor": 5
}
